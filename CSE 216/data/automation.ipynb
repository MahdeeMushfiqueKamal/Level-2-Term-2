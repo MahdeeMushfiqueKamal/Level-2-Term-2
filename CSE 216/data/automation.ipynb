{
 "cells": [
  {
   "cell_type": "code",
   "execution_count": 8,
   "metadata": {},
   "outputs": [],
   "source": [
    "import random\n",
    "fhand = open('Full_Names.txt')\n",
    "NAMES = list()\n",
    "\n",
    "for line in fhand.readlines():\n",
    "    line = line.strip()\n",
    "    NAMES.append(line)\n",
    "fhand.close()\n",
    "\n",
    "fhand = open('StudentQueries.sql','w')\n",
    "DAY = range(1,29)\n",
    "MONTH = range(1,13)\n",
    "YEAR = [2000,2001]\n",
    "LOCATION = ['KUET','RUET','CUET','SUST']\n",
    "HSC_ROLL_pool = range(1234567,9999999)\n",
    "HSC_REG_pool = range(123456789, 400000000)\n",
    "\n",
    "HSC_ROLL = list()\n",
    "HSC_REG = list()\n",
    "\n",
    "for i in range(40000):\n",
    "    HSC_ROLL.append(random.choice(HSC_ROLL_pool))\n",
    "    HSC_REG.append(random.choice(HSC_REG_pool))\n",
    "\n",
    "HSC_ROLL = list(set(HSC_ROLL))\n",
    "HSC_REG = list(set(HSC_REG))\n",
    "\n",
    "\n",
    "for i in range(8000):\n",
    "    birthday = str(random.choice(DAY))+'/'+str(random.choice(MONTH))+'/'+str(random.choice(YEAR))\n",
    "    quota_status ='\\'Y\\'' if 'Chakma' in NAMES[i] or 'Marma' in NAMES[i] else '\\'N\\''\n",
    "    center_id = 'BUET'\n",
    "\n",
    "    querystr = 'INSERT INTO STUDENT(HSC_ROLL,HSC_REG,NAME,BIRTHDATE,QUOTA_STATUS,CENTER_ID) VALUES('+ str(HSC_ROLL[i])+','+ str(HSC_REG[i])+',\\''+NAMES[i].strip()+'\\',\\''+birthday+'\\','+quota_status+',\\''+center_id+'\\');\\n'\n",
    "    fhand.write(querystr)\n",
    "    querystr = 'UPDATE EXAM_CENTER SET FILLED = (SELECT FILLED FROM EXAM_CENTER WHERE CENTER_ID=\\''+ center_id +'\\' ) + 1 WHERE CENTER_ID=\\''+center_id+'\\';\\n' \n",
    "    fhand.write(querystr)\n",
    "\n",
    "for i in range(8001,len(NAMES)):\n",
    "    birthday = str(random.choice(DAY))+'/'+str(random.choice(MONTH))+'/'+str(random.choice(YEAR))\n",
    "    quota_status ='\\'Y\\'' if 'Chakma' in NAMES[i] or 'Marma' in NAMES[i] else '\\'N\\''\n",
    "    center_id = random.choice(LOCATION)\n",
    "    \n",
    "    querystr = 'INSERT INTO STUDENT(HSC_ROLL,HSC_REG,NAME,BIRTHDATE,QUOTA_STATUS,CENTER_ID) VALUES('+ str(HSC_ROLL[i])+','+ str(HSC_REG[i])+',\\''+NAMES[i].strip()+'\\',\\''+birthday+'\\','+quota_status+',\\''+center_id+'\\');\\n'\n",
    "    fhand.write(querystr)\n",
    "    querystr = 'UPDATE EXAM_CENTER SET FILLED = (SELECT FILLED FROM EXAM_CENTER WHERE CENTER_ID=\\''+ center_id +'\\' ) + 1 WHERE CENTER_ID=\\''+center_id+'\\';\\n' \n",
    "    fhand.write(querystr)\n"
   ]
  }
 ],
 "metadata": {
  "interpreter": {
   "hash": "e92ab1d104a2602cf245bc6f7e6339fc1690f9c66d83e217d77440eb7a5b8a4a"
  },
  "kernelspec": {
   "display_name": "Python 3.8.2 32-bit",
   "language": "python",
   "name": "python3"
  },
  "language_info": {
   "codemirror_mode": {
    "name": "ipython",
    "version": 3
   },
   "file_extension": ".py",
   "mimetype": "text/x-python",
   "name": "python",
   "nbconvert_exporter": "python",
   "pygments_lexer": "ipython3",
   "version": "3.8.2"
  },
  "orig_nbformat": 4
 },
 "nbformat": 4,
 "nbformat_minor": 2
}
