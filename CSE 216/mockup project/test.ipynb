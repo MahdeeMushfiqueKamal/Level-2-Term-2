{
 "cells": [
  {
   "cell_type": "code",
   "execution_count": 93,
   "metadata": {},
   "outputs": [],
   "source": [
    "import sqlite3\n",
    "\n",
    "conn = sqlite3.connect('main_database.db')\n",
    "cur = conn.cursor()"
   ]
  },
  {
   "cell_type": "code",
   "execution_count": 94,
   "metadata": {},
   "outputs": [
    {
     "ename": "OperationalError",
     "evalue": "database is locked",
     "output_type": "error",
     "traceback": [
      "\u001b[1;31m---------------------------------------------------------------------------\u001b[0m",
      "\u001b[1;31mOperationalError\u001b[0m                          Traceback (most recent call last)",
      "Input \u001b[1;32mIn [94]\u001b[0m, in \u001b[0;36m<module>\u001b[1;34m\u001b[0m\n\u001b[0;32m      1\u001b[0m \u001b[38;5;66;03m#pupulate UNIVERSITY Table\u001b[39;00m\n\u001b[1;32m----> 2\u001b[0m \u001b[43mcur\u001b[49m\u001b[38;5;241;43m.\u001b[39;49m\u001b[43mexecute\u001b[49m\u001b[43m(\u001b[49m\u001b[38;5;124;43m'\u001b[39;49m\u001b[38;5;124;43mDROP TABLE IF EXISTS UNIVERSITY;\u001b[39;49m\u001b[38;5;124;43m'\u001b[39;49m\u001b[43m)\u001b[49m\n\u001b[0;32m      3\u001b[0m cur\u001b[38;5;241m.\u001b[39mexecute(\u001b[38;5;124m'''\u001b[39m\n\u001b[0;32m      4\u001b[0m \u001b[38;5;124mCREATE TABLE UNIVERSITY(\u001b[39m\n\u001b[0;32m      5\u001b[0m \u001b[38;5;124m    UNI_ID VARCHAR2(4) NOT NULL UNIQUE PRIMARY KEY,\u001b[39m\n\u001b[1;32m   (...)\u001b[0m\n\u001b[0;32m      8\u001b[0m \u001b[38;5;124m);\u001b[39m\n\u001b[0;32m      9\u001b[0m \u001b[38;5;124m'''\u001b[39m)\n\u001b[0;32m     10\u001b[0m cur\u001b[38;5;241m.\u001b[39mexecute(\u001b[38;5;124m'''\u001b[39m\u001b[38;5;124m INSERT INTO UNIVERSITY(UNI_ID,NAME,LOCATION) VALUES(\u001b[39m\u001b[38;5;124m'\u001b[39m\u001b[38;5;124mBUET\u001b[39m\u001b[38;5;124m'\u001b[39m\u001b[38;5;124m,\u001b[39m\u001b[38;5;124m'\u001b[39m\u001b[38;5;124mBangladesh University of Engineering and Technology\u001b[39m\u001b[38;5;124m'\u001b[39m\u001b[38;5;124m, \u001b[39m\u001b[38;5;124m'\u001b[39m\u001b[38;5;124mDhaka 1000\u001b[39m\u001b[38;5;124m'\u001b[39m\u001b[38;5;124m);\u001b[39m\u001b[38;5;124m'''\u001b[39m)\n",
      "\u001b[1;31mOperationalError\u001b[0m: database is locked"
     ]
    }
   ],
   "source": [
    "#pupulate UNIVERSITY Table\n",
    "cur.execute('DROP TABLE IF EXISTS UNIVERSITY;')\n",
    "cur.execute('''\n",
    "CREATE TABLE UNIVERSITY(\n",
    "    UNI_ID VARCHAR2(4) NOT NULL UNIQUE PRIMARY KEY,\n",
    "    NAME VARCHAR2(60) NOT NULL,\n",
    "    LOCATION VARCHAR(255) NOT NULL\n",
    ");\n",
    "''')\n",
    "cur.execute(''' INSERT INTO UNIVERSITY(UNI_ID,NAME,LOCATION) VALUES('BUET','Bangladesh University of Engineering and Technology', 'Dhaka 1000');''')\n",
    "cur.execute(''' INSERT INTO UNIVERSITY(UNI_ID,NAME,LOCATION) VALUES('CUET','Chittagong University of Engineering and Technology', 'Pahartoli, Raozan-4349, Chittagong');''')\n",
    "cur.execute(''' INSERT INTO UNIVERSITY(UNI_ID,NAME,LOCATION) VALUES('KUET','Khulna University of Engineering and Technology', 'Fulbarigate,Khulna');''')\n",
    "cur.execute(''' INSERT INTO UNIVERSITY(UNI_ID,NAME,LOCATION) VALUES('RUET','Rajshahi University of Engineering and Technology', 'Kazla, Rajshahi-6204');''')\n",
    "\n",
    "cur.execute('SELECT * FROM UNIVERSITY;')\n",
    "for line in cur.fetchall():\n",
    "    for item in line:\n",
    "        print(item, end=' \\t')\n",
    "    print('')"
   ]
  },
  {
   "cell_type": "code",
   "execution_count": null,
   "metadata": {},
   "outputs": [
    {
     "name": "stdout",
     "output_type": "stream",
     "text": [
      "ARCH \tArchitecture \t\n",
      "BECM \tBuilding Engineering and Construction Management \t\n",
      "BME \tBiomedical Engineering \t\n",
      "CE \tCivil Engineering \t\n",
      "CFPE \tChemical and Food Process Engineering \t\n",
      "CHE \tChemical Engineering \t\n",
      "CSE \tComputer Science and Engineering \t\n",
      "ECE \tElectrical and Computer Engineering \t\n",
      "EEE \tElectrical and Electronics Engineering \t\n",
      "ESE \tEnergy Science and Engineering \t\n",
      "ETE \tElectronics and Telecommunication Engineering \t\n",
      "GCE \tGlass and Ceramic Engineering \t\n",
      "IEM \tIndustrial Engineering and Management \t\n",
      "IPE \tIndustrial and Production Engineering \t\n",
      "LE \tLather Engineering \t\n",
      "MSE \tMaterial Science and Engineering \t\n",
      "ME \tMechanical Engineering \t\n",
      "MIE \tMechatronics and Industrial Engineering \t\n",
      "MTE \tMechatronics Engineering \t\n",
      "TE \tTextile Engineering \t\n",
      "PME \tPetrolium and Mining Engineering \t\n",
      "URP \tUrbal and Regional Planning \t\n",
      "WRE \tWater Resources Engineering \t\n"
     ]
    }
   ],
   "source": [
    "cur.execute('DROP TABLE IF EXISTS SUBJECT;')\n",
    "cur.execute('''\n",
    "CREATE TABLE SUBJECT(\n",
    "    SUB_ID VARCHAR2(4) NOT NULL UNIQUE PRIMARY KEY,\n",
    "    NAME VARCHAR2(60) NOT NULL\n",
    ");\n",
    "''')\n",
    "\n",
    "cur.execute('''INSERT INTO SUBJECT(SUB_ID,NAME) VALUES('ARCH','Architecture');''')\n",
    "cur.execute('''INSERT INTO SUBJECT(SUB_ID,NAME) VALUES('BECM','Building Engineering and Construction Management');''')\n",
    "cur.execute('''INSERT INTO SUBJECT(SUB_ID,NAME) VALUES('BME','Biomedical Engineering');''')\n",
    "cur.execute('''INSERT INTO SUBJECT(SUB_ID,NAME) VALUES('CE','Civil Engineering');''')\n",
    "cur.execute('''INSERT INTO SUBJECT(SUB_ID,NAME) VALUES('CFPE','Chemical and Food Process Engineering');''')\n",
    "cur.execute('''INSERT INTO SUBJECT(SUB_ID,NAME) VALUES('CHE','Chemical Engineering');''')\n",
    "cur.execute('''INSERT INTO SUBJECT(SUB_ID,NAME) VALUES('CSE','Computer Science and Engineering');''')\n",
    "cur.execute('''INSERT INTO SUBJECT(SUB_ID,NAME) VALUES('ECE','Electrical and Computer Engineering');''')\n",
    "cur.execute('''INSERT INTO SUBJECT(SUB_ID,NAME) VALUES('EEE','Electrical and Electronics Engineering');''')\n",
    "cur.execute('''INSERT INTO SUBJECT(SUB_ID,NAME) VALUES('ESE','Energy Science and Engineering');''')\n",
    "cur.execute('''INSERT INTO SUBJECT(SUB_ID,NAME) VALUES('ETE','Electronics and Telecommunication Engineering');''')\n",
    "cur.execute('''INSERT INTO SUBJECT(SUB_ID,NAME) VALUES('GCE','Glass and Ceramic Engineering');''')\n",
    "cur.execute('''INSERT INTO SUBJECT(SUB_ID,NAME) VALUES('IEM','Industrial Engineering and Management');''')\n",
    "cur.execute('''INSERT INTO SUBJECT(SUB_ID,NAME) VALUES('IPE','Industrial and Production Engineering');''')\n",
    "cur.execute('''INSERT INTO SUBJECT(SUB_ID,NAME) VALUES('LE','Lather Engineering');''')\n",
    "cur.execute('''INSERT INTO SUBJECT(SUB_ID,NAME) VALUES('MSE','Material Science and Engineering');''')\n",
    "cur.execute('''INSERT INTO SUBJECT(SUB_ID,NAME) VALUES('ME','Mechanical Engineering');''')\n",
    "cur.execute('''INSERT INTO SUBJECT(SUB_ID,NAME) VALUES('MIE','Mechatronics and Industrial Engineering');''')\n",
    "cur.execute('''INSERT INTO SUBJECT(SUB_ID,NAME) VALUES('MTE','Mechatronics Engineering');''')\n",
    "cur.execute('''INSERT INTO SUBJECT(SUB_ID,NAME) VALUES('TE','Textile Engineering');''')\n",
    "cur.execute('''INSERT INTO SUBJECT(SUB_ID,NAME) VALUES('PME','Petrolium and Mining Engineering');''')\n",
    "cur.execute('''INSERT INTO SUBJECT(SUB_ID,NAME) VALUES('URP','Urbal and Regional Planning');''')\n",
    "cur.execute('''INSERT INTO SUBJECT(SUB_ID,NAME) VALUES('WRE','Water Resources Engineering');''')\n",
    "\n",
    "cur.execute('SELECT * FROM SUBJECT;')\n",
    "for line in cur.fetchall():\n",
    "    for item in line:\n",
    "        print(item, end=' \\t')\n",
    "    print('')"
   ]
  },
  {
   "cell_type": "code",
   "execution_count": null,
   "metadata": {},
   "outputs": [
    {
     "name": "stdout",
     "output_type": "stream",
     "text": [
      "BUET \tARCH \t55 \t1 \t0 \t0 \t\n",
      "BUET \tBME \t30 \t0 \t0 \t0 \t\n",
      "BUET \tCE \t195 \t1 \t0 \t0 \t\n",
      "BUET \tCHE \t60 \t1 \t0 \t0 \t\n",
      "BUET \tCSE \t120 \t1 \t0 \t0 \t\n",
      "BUET \tEEE \t195 \t0 \t0 \t0 \t\n",
      "BUET \tIPE \t30 \t0 \t0 \t0 \t\n",
      "BUET \tNAME \t55 \t0 \t0 \t0 \t\n",
      "BUET \tME \t180 \t1 \t0 \t0 \t\n",
      "BUET \tMME \t50 \t0 \t0 \t0 \t\n",
      "BUET \tURP \t30 \t1 \t0 \t0 \t\n",
      "BUET \tWRE \t30 \t0 \t0 \t0 \t\n",
      "CUET \tARCH \t30 \t1 \t0 \t0 \t\n",
      "CUET \tBME \t30 \t0 \t0 \t0 \t\n",
      "CUET \tCE \t130 \t1 \t0 \t0 \t\n",
      "CUET \tCSE \t130 \t1 \t0 \t0 \t\n",
      "CUET \tEEE \t180 \t1 \t0 \t0 \t\n",
      "CUET \tETE \t60 \t0 \t0 \t0 \t\n",
      "CUET \tMSE \t30 \t1 \t0 \t0 \t\n",
      "CUET \tME \t180 \t1 \t0 \t0 \t\n",
      "CUET \tMIE \t30 \t0 \t0 \t0 \t\n",
      "CUET \tPME \t30 \t0 \t0 \t0 \t\n",
      "CUET \tWRP \t30 \t0 \t0 \t0 \t\n",
      "CUET \tWRE \t30 \t0 \t0 \t0 \t\n",
      "KUET \tARCH \t40 \t1 \t0 \t0 \t\n",
      "KUET \tBECM \t60 \t1 \t0 \t0 \t\n",
      "KUET \tBME \t30 \t0 \t0 \t0 \t\n",
      "KUET \tCHE \t30 \t0 \t0 \t0 \t\n",
      "KUET \tCE \t120 \t1 \t0 \t0 \t\n",
      "KUET \tCSE \t120 \t1 \t0 \t0 \t\n",
      "KUET \tEEE \t120 \t1 \t0 \t0 \t\n",
      "KUET \tECE \t60 \t0 \t0 \t0 \t\n",
      "KUET \tESE \t30 \t1 \t0 \t0 \t\n",
      "KUET \tIEM \t60 \t0 \t0 \t0 \t\n",
      "KUET \tLE \t60 \t0 \t0 \t0 \t\n",
      "KUET \tMSE \t60 \t0 \t0 \t0 \t\n",
      "KUET \tME \t120 \t1 \t0 \t0 \t\n",
      "KUET \tMTE \t30 \t0 \t0 \t0 \t\n",
      "KUET \tTE \t60 \t0 \t0 \t0 \t\n",
      "KUET \tURP \t60 \t1 \t0 \t0 \t\n",
      "RUET \tARCH \t30 \t1 \t0 \t0 \t\n",
      "RUET \tBECM \t30 \t0 \t0 \t0 \t\n",
      "RUET \tCFPE \t30 \t0 \t0 \t0 \t\n",
      "RUET \tCE \t180 \t1 \t0 \t0 \t\n",
      "RUET \tCSE \t180 \t0 \t0 \t0 \t\n",
      "RUET \tEEE \t180 \t1 \t0 \t0 \t\n",
      "RUET \tECE \t60 \t0 \t0 \t0 \t\n",
      "RUET \tETE \t60 \t0 \t0 \t0 \t\n",
      "RUET \tGCE \t60 \t0 \t0 \t0 \t\n",
      "RUET \tIPE \t60 \t1 \t0 \t0 \t\n",
      "RUET \tME \t180 \t1 \t0 \t0 \t\n",
      "RUET \tMSE \t60 \t0 \t0 \t0 \t\n",
      "RUET \tMTE \t60 \t1 \t0 \t0 \t\n",
      "RUET \tURP \t60 \t1 \t0 \t0 \t\n"
     ]
    }
   ],
   "source": [
    "cur.execute('DROP TABLE IF EXISTS UNI_SUB;')\n",
    "cur.execute('''\n",
    "CREATE TABLE UNI_SUB(\n",
    "    UNI_ID VARCHAR2(4) REFERENCES UNIVERSITY(UNI_ID),\n",
    "    SUB_ID VARCHAR2(4) REFERENCES SUBJECT(SUB_ID),\n",
    "    CAPASITY INT NOT NULL,\n",
    "    QUOTA_CAPASITY INT NOT NULL,\n",
    "    FILLED INT DEFAULT 0,\n",
    "    QUOTA_FILLED DEFAULT 0\n",
    ");\n",
    "''')\n",
    "\n",
    "cur.execute('''INSERT INTO UNI_SUB(UNI_ID,SUB_ID,CAPASITY,QUOTA_CAPASITY) VALUES('BUET','ARCH','55','1');''')\n",
    "cur.execute('''INSERT INTO UNI_SUB(UNI_ID,SUB_ID,CAPASITY,QUOTA_CAPASITY) VALUES('BUET','BME','30','0');''')\n",
    "cur.execute('''INSERT INTO UNI_SUB(UNI_ID,SUB_ID,CAPASITY,QUOTA_CAPASITY) VALUES('BUET','CE','195','1');''')\n",
    "cur.execute('''INSERT INTO UNI_SUB(UNI_ID,SUB_ID,CAPASITY,QUOTA_CAPASITY) VALUES('BUET','CHE','60','1');''')\n",
    "cur.execute('''INSERT INTO UNI_SUB(UNI_ID,SUB_ID,CAPASITY,QUOTA_CAPASITY) VALUES('BUET','CSE','120','1');''')\n",
    "cur.execute('''INSERT INTO UNI_SUB(UNI_ID,SUB_ID,CAPASITY,QUOTA_CAPASITY) VALUES('BUET','EEE','195','0');''')\n",
    "cur.execute('''INSERT INTO UNI_SUB(UNI_ID,SUB_ID,CAPASITY,QUOTA_CAPASITY) VALUES('BUET','IPE','30','0');''')\n",
    "cur.execute('''INSERT INTO UNI_SUB(UNI_ID,SUB_ID,CAPASITY,QUOTA_CAPASITY) VALUES('BUET','NAME','55','0');''')\n",
    "cur.execute('''INSERT INTO UNI_SUB(UNI_ID,SUB_ID,CAPASITY,QUOTA_CAPASITY) VALUES('BUET','ME','180','1');''')\n",
    "cur.execute('''INSERT INTO UNI_SUB(UNI_ID,SUB_ID,CAPASITY,QUOTA_CAPASITY) VALUES('BUET','MME','50','0');''')\n",
    "cur.execute('''INSERT INTO UNI_SUB(UNI_ID,SUB_ID,CAPASITY,QUOTA_CAPASITY) VALUES('BUET','URP','30','1');''')\n",
    "cur.execute('''INSERT INTO UNI_SUB(UNI_ID,SUB_ID,CAPASITY,QUOTA_CAPASITY) VALUES('BUET','WRE','30','0');''')\n",
    "cur.execute('''INSERT INTO UNI_SUB(UNI_ID,SUB_ID,CAPASITY,QUOTA_CAPASITY) VALUES('CUET','ARCH','30','1');''')\n",
    "cur.execute('''INSERT INTO UNI_SUB(UNI_ID,SUB_ID,CAPASITY,QUOTA_CAPASITY) VALUES('CUET','BME','30','0');''')\n",
    "cur.execute('''INSERT INTO UNI_SUB(UNI_ID,SUB_ID,CAPASITY,QUOTA_CAPASITY) VALUES('CUET','CE','130','1');''')\n",
    "cur.execute('''INSERT INTO UNI_SUB(UNI_ID,SUB_ID,CAPASITY,QUOTA_CAPASITY) VALUES('CUET','CSE','130','1');''')\n",
    "cur.execute('''INSERT INTO UNI_SUB(UNI_ID,SUB_ID,CAPASITY,QUOTA_CAPASITY) VALUES('CUET','EEE','180','1');''')\n",
    "cur.execute('''INSERT INTO UNI_SUB(UNI_ID,SUB_ID,CAPASITY,QUOTA_CAPASITY) VALUES('CUET','ETE','60','0');''')\n",
    "cur.execute('''INSERT INTO UNI_SUB(UNI_ID,SUB_ID,CAPASITY,QUOTA_CAPASITY) VALUES('CUET','MSE','30','1');''')\n",
    "cur.execute('''INSERT INTO UNI_SUB(UNI_ID,SUB_ID,CAPASITY,QUOTA_CAPASITY) VALUES('CUET','ME','180','1');''')\n",
    "cur.execute('''INSERT INTO UNI_SUB(UNI_ID,SUB_ID,CAPASITY,QUOTA_CAPASITY) VALUES('CUET','MIE','30','0');''')\n",
    "cur.execute('''INSERT INTO UNI_SUB(UNI_ID,SUB_ID,CAPASITY,QUOTA_CAPASITY) VALUES('CUET','PME','30','0');''')\n",
    "cur.execute('''INSERT INTO UNI_SUB(UNI_ID,SUB_ID,CAPASITY,QUOTA_CAPASITY) VALUES('CUET','WRP','30','0');''')\n",
    "cur.execute('''INSERT INTO UNI_SUB(UNI_ID,SUB_ID,CAPASITY,QUOTA_CAPASITY) VALUES('CUET','WRE','30','0');''')\n",
    "cur.execute('''INSERT INTO UNI_SUB(UNI_ID,SUB_ID,CAPASITY,QUOTA_CAPASITY) VALUES('KUET','ARCH','40','1');''')\n",
    "cur.execute('''INSERT INTO UNI_SUB(UNI_ID,SUB_ID,CAPASITY,QUOTA_CAPASITY) VALUES('KUET','BECM','60','1');''')\n",
    "cur.execute('''INSERT INTO UNI_SUB(UNI_ID,SUB_ID,CAPASITY,QUOTA_CAPASITY) VALUES('KUET','BME','30','0');''')\n",
    "cur.execute('''INSERT INTO UNI_SUB(UNI_ID,SUB_ID,CAPASITY,QUOTA_CAPASITY) VALUES('KUET','CHE','30','0');''')\n",
    "cur.execute('''INSERT INTO UNI_SUB(UNI_ID,SUB_ID,CAPASITY,QUOTA_CAPASITY) VALUES('KUET','CE','120','1');''')\n",
    "cur.execute('''INSERT INTO UNI_SUB(UNI_ID,SUB_ID,CAPASITY,QUOTA_CAPASITY) VALUES('KUET','CSE','120','1');''')\n",
    "cur.execute('''INSERT INTO UNI_SUB(UNI_ID,SUB_ID,CAPASITY,QUOTA_CAPASITY) VALUES('KUET','EEE','120','1');''')\n",
    "cur.execute('''INSERT INTO UNI_SUB(UNI_ID,SUB_ID,CAPASITY,QUOTA_CAPASITY) VALUES('KUET','ECE','60','0');''')\n",
    "cur.execute('''INSERT INTO UNI_SUB(UNI_ID,SUB_ID,CAPASITY,QUOTA_CAPASITY) VALUES('KUET','ESE','30','1');''')\n",
    "cur.execute('''INSERT INTO UNI_SUB(UNI_ID,SUB_ID,CAPASITY,QUOTA_CAPASITY) VALUES('KUET','IEM','60','0');''')\n",
    "cur.execute('''INSERT INTO UNI_SUB(UNI_ID,SUB_ID,CAPASITY,QUOTA_CAPASITY) VALUES('KUET','LE','60','0');''')\n",
    "cur.execute('''INSERT INTO UNI_SUB(UNI_ID,SUB_ID,CAPASITY,QUOTA_CAPASITY) VALUES('KUET','MSE','60','0');''')\n",
    "cur.execute('''INSERT INTO UNI_SUB(UNI_ID,SUB_ID,CAPASITY,QUOTA_CAPASITY) VALUES('KUET','ME','120','1');''')\n",
    "cur.execute('''INSERT INTO UNI_SUB(UNI_ID,SUB_ID,CAPASITY,QUOTA_CAPASITY) VALUES('KUET','MTE','30','0');''')\n",
    "cur.execute('''INSERT INTO UNI_SUB(UNI_ID,SUB_ID,CAPASITY,QUOTA_CAPASITY) VALUES('KUET','TE','60','0');''')\n",
    "cur.execute('''INSERT INTO UNI_SUB(UNI_ID,SUB_ID,CAPASITY,QUOTA_CAPASITY) VALUES('KUET','URP','60','1');''')\n",
    "cur.execute('''INSERT INTO UNI_SUB(UNI_ID,SUB_ID,CAPASITY,QUOTA_CAPASITY) VALUES('RUET','ARCH','30','1');''')\n",
    "cur.execute('''INSERT INTO UNI_SUB(UNI_ID,SUB_ID,CAPASITY,QUOTA_CAPASITY) VALUES('RUET','BECM','30','0');''')\n",
    "cur.execute('''INSERT INTO UNI_SUB(UNI_ID,SUB_ID,CAPASITY,QUOTA_CAPASITY) VALUES('RUET','CFPE','30','0');''')\n",
    "cur.execute('''INSERT INTO UNI_SUB(UNI_ID,SUB_ID,CAPASITY,QUOTA_CAPASITY) VALUES('RUET','CE','180','1');''')\n",
    "cur.execute('''INSERT INTO UNI_SUB(UNI_ID,SUB_ID,CAPASITY,QUOTA_CAPASITY) VALUES('RUET','CSE','180','0');''')\n",
    "cur.execute('''INSERT INTO UNI_SUB(UNI_ID,SUB_ID,CAPASITY,QUOTA_CAPASITY) VALUES('RUET','EEE','180','1');''')\n",
    "cur.execute('''INSERT INTO UNI_SUB(UNI_ID,SUB_ID,CAPASITY,QUOTA_CAPASITY) VALUES('RUET','ECE','60','0');''')\n",
    "cur.execute('''INSERT INTO UNI_SUB(UNI_ID,SUB_ID,CAPASITY,QUOTA_CAPASITY) VALUES('RUET','ETE','60','0');''')\n",
    "cur.execute('''INSERT INTO UNI_SUB(UNI_ID,SUB_ID,CAPASITY,QUOTA_CAPASITY) VALUES('RUET','GCE','60','0');''')\n",
    "cur.execute('''INSERT INTO UNI_SUB(UNI_ID,SUB_ID,CAPASITY,QUOTA_CAPASITY) VALUES('RUET','IPE','60','1');''')\n",
    "cur.execute('''INSERT INTO UNI_SUB(UNI_ID,SUB_ID,CAPASITY,QUOTA_CAPASITY) VALUES('RUET','ME','180','1');''')\n",
    "cur.execute('''INSERT INTO UNI_SUB(UNI_ID,SUB_ID,CAPASITY,QUOTA_CAPASITY) VALUES('RUET','MSE','60','0');''')\n",
    "cur.execute('''INSERT INTO UNI_SUB(UNI_ID,SUB_ID,CAPASITY,QUOTA_CAPASITY) VALUES('RUET','MTE','60','1');''')\n",
    "cur.execute('''INSERT INTO UNI_SUB(UNI_ID,SUB_ID,CAPASITY,QUOTA_CAPASITY) VALUES('RUET','URP','60','1');''')\n",
    "\n",
    "cur.execute('SELECT * FROM UNI_SUB;')\n",
    "for line in cur.fetchall():\n",
    "    for item in line:\n",
    "        print(item, end=' \\t')\n",
    "    print('')"
   ]
  },
  {
   "cell_type": "code",
   "execution_count": null,
   "metadata": {},
   "outputs": [
    {
     "name": "stdout",
     "output_type": "stream",
     "text": [
      "Architecture \t55 \t1 \t\n",
      "Biomedical Engineering \t30 \t0 \t\n",
      "Civil Engineering \t195 \t1 \t\n",
      "Chemical Engineering \t60 \t1 \t\n",
      "Computer Science and Engineering \t120 \t1 \t\n",
      "Electrical and Electronics Engineering \t195 \t0 \t\n",
      "Industrial and Production Engineering \t30 \t0 \t\n",
      "Mechanical Engineering \t180 \t1 \t\n",
      "Urbal and Regional Planning \t30 \t1 \t\n",
      "Water Resources Engineering \t30 \t0 \t\n"
     ]
    }
   ],
   "source": [
    "# Subject lists and seats in BUET\n",
    "cur.execute('''\n",
    "SELECT S.NAME, US.CAPASITY, US.QUOTA_CAPASITY\n",
    "FROM UNI_SUB US JOIN SUBJECT S ON US.SUB_ID = S.SUB_ID \n",
    "WHERE US.UNI_ID = 'BUET';\n",
    "''')\n",
    "for line in cur.fetchall():\n",
    "    for item in line:\n",
    "        print(item, end=' \\t')\n",
    "    print('')"
   ]
  },
  {
   "cell_type": "code",
   "execution_count": null,
   "metadata": {},
   "outputs": [
    {
     "name": "stdout",
     "output_type": "stream",
     "text": [
      "BUET \tBangladesh University of Engineering and Technology \tDhaka 1000 \t9000 \t0 \t\n",
      "CUET \tChittagong University of Engineering and Technology \tPahartoli, Raozan-4349, Chittagong \t7000 \t0 \t\n",
      "KUET \tKhulna University of Engineering and Technology \tFulbarigate,Khulna \t7000 \t0 \t\n",
      "RUET \tRajshahi University of Engineering and Technology \tKazla, Rajshahi-6204 \t7000 \t0 \t\n",
      "SUST \tSylhet University of Science and Technology \tUniversity Ave, Sylhet 3114 \t7000 \t0 \t\n"
     ]
    }
   ],
   "source": [
    "cur.execute(''' DROP TABLE IF EXISTS EXAM_CENTER; ''')\n",
    "cur.execute('''\n",
    "CREATE TABLE EXAM_CENTER(\n",
    "    CENTER_ID VARCHAR2(4) NOT NULL PRIMARY KEY,\n",
    "    NAME VARCHAR2(60) NOT NULL,\n",
    "    LOCATION VARCHAR2(255) NOT NULL,\n",
    "    CAPASITY INT NOT NULL,\n",
    "    FILLED INT DEFAULT 0\n",
    ");\n",
    "''')\n",
    "\n",
    "cur.execute(''' INSERT INTO EXAM_CENTER(CENTER_ID,NAME,LOCATION,CAPASITY) VALUES('BUET','Bangladesh University of Engineering and Technology', 'Dhaka 1000',9000);''')\n",
    "cur.execute(''' INSERT INTO EXAM_CENTER(CENTER_ID,NAME,LOCATION,CAPASITY) VALUES('CUET','Chittagong University of Engineering and Technology', 'Pahartoli, Raozan-4349, Chittagong',7000);''')\n",
    "cur.execute(''' INSERT INTO EXAM_CENTER(CENTER_ID,NAME,LOCATION,CAPASITY) VALUES('KUET','Khulna University of Engineering and Technology', 'Fulbarigate,Khulna',7000);''')\n",
    "cur.execute(''' INSERT INTO EXAM_CENTER(CENTER_ID,NAME,LOCATION,CAPASITY) VALUES('RUET','Rajshahi University of Engineering and Technology', 'Kazla, Rajshahi-6204',7000);''')\n",
    "cur.execute(''' INSERT INTO EXAM_CENTER(CENTER_ID,NAME,LOCATION,CAPASITY) VALUES('SUST','Sylhet University of Science and Technology', 'University Ave, Sylhet 3114',7000);''')\n",
    "\n",
    "cur.execute('''SELECT * FROM EXAM_CENTER''')\n",
    "for line in cur.fetchall():\n",
    "    for item in line:\n",
    "        print(item, end=' \\t')\n",
    "    print('')\n"
   ]
  },
  {
   "cell_type": "code",
   "execution_count": null,
   "metadata": {},
   "outputs": [],
   "source": []
  },
  {
   "cell_type": "code",
   "execution_count": null,
   "metadata": {},
   "outputs": [],
   "source": []
  },
  {
   "cell_type": "code",
   "execution_count": null,
   "metadata": {},
   "outputs": [],
   "source": []
  },
  {
   "cell_type": "code",
   "execution_count": null,
   "metadata": {},
   "outputs": [],
   "source": []
  },
  {
   "cell_type": "code",
   "execution_count": 92,
   "metadata": {},
   "outputs": [],
   "source": [
    "conn.close()"
   ]
  },
  {
   "cell_type": "code",
   "execution_count": null,
   "metadata": {},
   "outputs": [],
   "source": []
  }
 ],
 "metadata": {
  "interpreter": {
   "hash": "e92ab1d104a2602cf245bc6f7e6339fc1690f9c66d83e217d77440eb7a5b8a4a"
  },
  "kernelspec": {
   "display_name": "Python 3.8.2 32-bit",
   "language": "python",
   "name": "python3"
  },
  "language_info": {
   "codemirror_mode": {
    "name": "ipython",
    "version": 3
   },
   "file_extension": ".py",
   "mimetype": "text/x-python",
   "name": "python",
   "nbconvert_exporter": "python",
   "pygments_lexer": "ipython3",
   "version": "3.8.2"
  },
  "orig_nbformat": 4
 },
 "nbformat": 4,
 "nbformat_minor": 2
}
